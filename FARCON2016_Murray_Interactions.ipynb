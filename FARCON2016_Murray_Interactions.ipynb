{
 "cells": [
  {
   "cell_type": "code",
   "execution_count": 6,
   "metadata": {
    "collapsed": false
   },
   "outputs": [
    {
     "data": {
      "text/html": [
       "<div>\n",
       "<table border=\"1\" class=\"dataframe\">\n",
       "  <thead>\n",
       "    <tr style=\"text-align: right;\">\n",
       "      <th></th>\n",
       "      <th>average_age</th>\n",
       "      <th>daily_revenue</th>\n",
       "      <th>dress_code</th>\n",
       "      <th>id</th>\n",
       "    </tr>\n",
       "  </thead>\n",
       "  <tbody>\n",
       "    <tr>\n",
       "      <th>0</th>\n",
       "      <td>30.501964</td>\n",
       "      <td>93</td>\n",
       "      <td>1</td>\n",
       "      <td>1</td>\n",
       "    </tr>\n",
       "    <tr>\n",
       "      <th>1</th>\n",
       "      <td>39.853520</td>\n",
       "      <td>145</td>\n",
       "      <td>1</td>\n",
       "      <td>2</td>\n",
       "    </tr>\n",
       "    <tr>\n",
       "      <th>2</th>\n",
       "      <td>32.816251</td>\n",
       "      <td>68</td>\n",
       "      <td>0</td>\n",
       "      <td>3</td>\n",
       "    </tr>\n",
       "    <tr>\n",
       "      <th>3</th>\n",
       "      <td>53.218383</td>\n",
       "      <td>208</td>\n",
       "      <td>1</td>\n",
       "      <td>4</td>\n",
       "    </tr>\n",
       "    <tr>\n",
       "      <th>4</th>\n",
       "      <td>34.455073</td>\n",
       "      <td>160</td>\n",
       "      <td>1</td>\n",
       "      <td>5</td>\n",
       "    </tr>\n",
       "  </tbody>\n",
       "</table>\n",
       "</div>"
      ],
      "text/plain": [
       "   average_age  daily_revenue  dress_code  id\n",
       "0    30.501964             93           1   1\n",
       "1    39.853520            145           1   2\n",
       "2    32.816251             68           0   3\n",
       "3    53.218383            208           1   4\n",
       "4    34.455073            160           1   5"
      ]
     },
     "execution_count": 6,
     "metadata": {},
     "output_type": "execute_result"
    }
   ],
   "source": [
    "import pandas as pd\n",
    "from statsmodels import api as sm\n",
    "\n",
    "df = pd.read_csv('dress_code_data.csv')  # type: pd.DataFrame\n",
    "\n",
    "df.head()"
   ]
  },
  {
   "cell_type": "code",
   "execution_count": 7,
   "metadata": {
    "collapsed": false
   },
   "outputs": [
    {
     "name": "stdout",
     "output_type": "stream",
     "text": [
      "                            OLS Regression Results                            \n",
      "==============================================================================\n",
      "Dep. Variable:                      y   R-squared:                       0.226\n",
      "Model:                            OLS   Adj. R-squared:                  0.221\n",
      "Method:                 Least Squares   F-statistic:                     38.63\n",
      "Date:                Tue, 23 Aug 2016   Prob (F-statistic):           6.43e-22\n",
      "Time:                        16:29:37   Log-Likelihood:                -1967.9\n",
      "No. Observations:                 400   AIC:                             3944.\n",
      "Df Residuals:                     396   BIC:                             3960.\n",
      "Df Model:                           3                                         \n",
      "Covariance Type:            nonrobust                                         \n",
      "=================================================================================\n",
      "                    coef    std err          t      P>|t|      [95.0% Conf. Int.]\n",
      "---------------------------------------------------------------------------------\n",
      "const            97.4730      9.223     10.568      0.000        79.340   115.605\n",
      "average_age       0.0602      0.223      0.270      0.787        -0.378     0.499\n",
      "dress_code      -74.0847     13.035     -5.683      0.000       -99.712   -48.458\n",
      "int_age_dress     2.1783      0.315      6.905      0.000         1.558     2.798\n",
      "==============================================================================\n",
      "Omnibus:                        4.982   Durbin-Watson:                   2.059\n",
      "Prob(Omnibus):                  0.083   Jarque-Bera (JB):                6.088\n",
      "Skew:                          -0.102   Prob(JB):                       0.0476\n",
      "Kurtosis:                       3.569   Cond. No.                         427.\n",
      "==============================================================================\n",
      "\n",
      "Warnings:\n",
      "[1] Standard Errors assume that the covariance matrix of the errors is correctly specified.\n"
     ]
    }
   ],
   "source": [
    "combined = df['average_age'] * df['dress_code']\n",
    "\n",
    "y = df['daily_revenue'].values\n",
    "\n",
    "df_dress_code = pd.DataFrame({\n",
    "    'average_age': df['average_age'],\n",
    "    'dress_code': df['dress_code'],\n",
    "    'int_age_dress': combined\n",
    "})\n",
    "\n",
    "x = sm.add_constant(df_dress_code)\n",
    "results = sm.OLS(y, x).fit()\n",
    "\n",
    "print(results.summary())"
   ]
  },
  {
   "cell_type": "markdown",
   "metadata": {
    "collapsed": true
   },
   "source": [
    "## To Do: \n",
    "- Add in graphs \n",
    "- Table of contents"
   ]
  }
 ],
 "metadata": {
  "kernelspec": {
   "display_name": "Python 3",
   "language": "python",
   "name": "python3"
  },
  "language_info": {
   "codemirror_mode": {
    "name": "ipython",
    "version": 3
   },
   "file_extension": ".py",
   "mimetype": "text/x-python",
   "name": "python",
   "nbconvert_exporter": "python",
   "pygments_lexer": "ipython3",
   "version": "3.5.2"
  }
 },
 "nbformat": 4,
 "nbformat_minor": 0
}
